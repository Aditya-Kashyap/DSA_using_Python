{
 "cells": [
  {
   "cell_type": "code",
   "execution_count": 22,
   "metadata": {},
   "outputs": [
    {
     "name": "stdout",
     "output_type": "stream",
     "text": [
      "defaultdict(<class 'list'>, {0: [1, 2], 1: [2], 2: [0, 3], 3: [3]})\n",
      "2  \n",
      "0  \n",
      "3  \n",
      "1  \n"
     ]
    }
   ],
   "source": [
    "from collections import defaultdict \n",
    "\n",
    "class Graph:\n",
    "    \n",
    "    def __init__(self):\n",
    "        self.graph=defaultdict(list)\n",
    "    \n",
    "    def addEdge(self,u,v):\n",
    "        self.graph[u].append(v)\n",
    "        \n",
    "    def BFS(self, s):\n",
    "        \n",
    "        visited= [False]*len(self.graph)\n",
    "        queue=[]\n",
    "        \n",
    "        queue.append(s)\n",
    "        visited[s]=True\n",
    "        \n",
    "        while queue:\n",
    "            \n",
    "            s=queue.pop(0)\n",
    "            print(s,\" \")\n",
    "            \n",
    "            for i in self.graph[s]:\n",
    "                if visited[i]==False:\n",
    "                    visited[i]=True\n",
    "                    queue.append(i)\n",
    "                    \n",
    "                \n",
    "g = Graph() \n",
    "g.addEdge(0, 1) \n",
    "g.addEdge(0, 2) \n",
    "g.addEdge(1, 2) \n",
    "g.addEdge(2, 0) \n",
    "g.addEdge(2, 3) \n",
    "g.addEdge(3, 3) \n",
    "print(g.graph)\n",
    "g.BFS(2) "
   ]
  }
 ],
 "metadata": {
  "kernelspec": {
   "display_name": "Python 3",
   "language": "python",
   "name": "python3"
  },
  "language_info": {
   "codemirror_mode": {
    "name": "ipython",
    "version": 3
   },
   "file_extension": ".py",
   "mimetype": "text/x-python",
   "name": "python",
   "nbconvert_exporter": "python",
   "pygments_lexer": "ipython3",
   "version": "3.7.4"
  }
 },
 "nbformat": 4,
 "nbformat_minor": 4
}
